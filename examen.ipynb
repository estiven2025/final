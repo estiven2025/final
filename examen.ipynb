{
 "cells": [
  {
   "cell_type": "markdown",
   "metadata": {},
   "source": [
    "# Examen Parcial de Python Básico"
   ]
  },
  {
   "cell_type": "markdown",
   "metadata": {},
   "source": [
    "## 1. Creación de variables y conceptos básicos\n",
    "\n",
    "1. ¿Qué es una variable en Python y cómo se declara?\n",
    "\n",
    "2. Declara una variable llamada `nombre` y asígnale tu nombre.\n",
    "\n",
    "3. ¿Qué tipos de datos básicos existen en Python? Da un ejemplo de cada uno."
   ]
  },
  {
   "cell_type": "markdown",
   "metadata": {},
   "source": [
    "### Una variable en python es el nombre que se le da a un valor."
   ]
  },
  {
   "cell_type": "code",
   "execution_count": 1,
   "metadata": {},
   "outputs": [
    {
     "name": "stdout",
     "output_type": "stream",
     "text": [
      "estiven\n"
     ]
    }
   ],
   "source": [
    "nombre = \"estiven\"\n",
    "print(nombre)"
   ]
  },
  {
   "cell_type": "code",
   "execution_count": null,
   "metadata": {},
   "outputs": [],
   "source": [
    "#los tipos de datos basicos son bool,str,int y float\n",
    "int = 1,3,4#enteros\n",
    "float = 1.3,2.6,2.9#decimales\n",
    "bool = True\n",
    "str =  \"9\",\"estiven\",\"hoy\""
   ]
  },
  {
   "cell_type": "markdown",
   "metadata": {},
   "source": [
    "## 2. Operadores matemáticos y lógicos\n",
    "\n",
    "1. ¿Cuáles son los operadores matemáticos básicos en Python? Escribe un ejemplo de cada uno.\n",
    "\n",
    "2. ¿Qué operadores lógicos existen en Python? Da un ejemplo de uso de `and`, `or` y `not`."
   ]
  },
  {
   "cell_type": "code",
   "execution_count": 15,
   "metadata": {},
   "outputs": [
    {
     "name": "stdout",
     "output_type": "stream",
     "text": [
      "estivensanchez\n",
      "40\n",
      "250\n",
      "100.0\n"
     ]
    }
   ],
   "source": [
    "# los operadores matematicos en python son el + la - la * y la \\\n",
    "\n",
    "nombre = (\"estiven\" + \"sanchez\")\n",
    "print(nombre)\n",
    "\n",
    "altura = (50 - 10)\n",
    "print(altura)\n",
    "\n",
    "multiplicacion = (50 * 5)\n",
    "print(multiplicacion)\n",
    "\n",
    "division = (1000 / 10)\n",
    "print(division)"
   ]
  },
  {
   "cell_type": "code",
   "execution_count": 28,
   "metadata": {},
   "outputs": [
    {
     "name": "stdout",
     "output_type": "stream",
     "text": [
      "ambos son positivos\n",
      "almenos uno es positivo\n"
     ]
    }
   ],
   "source": [
    "#en python existen tres tipos de operadores logicos y estos son and, or y not\n",
    "x = 5\n",
    "y = 3\n",
    "\n",
    "if x > 0 and y > 0:\n",
    "    print(\"ambos son positivos\")\n",
    "\n",
    "if x > 0 or y > 0:\n",
    "    print(\"almenos uno es positivo\")\n",
    "\n",
    "if not x > 0:\n",
    "    print(\"x no es positivo\")    "
   ]
  },
  {
   "cell_type": "markdown",
   "metadata": {},
   "source": [
    "## 3. Listas\n",
    "\n",
    "1. ¿Qué es una lista en Python y cómo se declara?\n",
    "\n",
    "2. Crea una lista con los nombres de cinco frutas.\n",
    "\n",
    "3. Escribe un ciclo `for` que imprima cada fruta de la lista."
   ]
  },
  {
   "cell_type": "code",
   "execution_count": null,
   "metadata": {},
   "outputs": [],
   "source": [
    "# las listas son un tipo de dato mutable es decir que se le pueden hacer cambios y se declara de la siguiente forma\n",
    "list = ()"
   ]
  },
  {
   "cell_type": "code",
   "execution_count": null,
   "metadata": {},
   "outputs": [
    {
     "name": "stdout",
     "output_type": "stream",
     "text": [
      "('mansana', 'fresa', 'mango', 'mora', 'naranja')\n"
     ]
    }
   ],
   "source": [
    "\n",
    "list = (\"mansana\",\"fresa\",\"mango\",\"mora\",\"naranja\")\n",
    "print(list)"
   ]
  },
  {
   "cell_type": "markdown",
   "metadata": {},
   "source": [
    "## 4. Diccionarios\n",
    "\n",
    "1. ¿Qué es un diccionario en Python y para qué se utiliza?\n",
    "\n",
    "2. Crea un diccionario con información de una persona (nombre, edad, ciudad).\n",
    "\n",
    "3. Accede e imprime el valor de la clave `nombre`."
   ]
  },
  {
   "cell_type": "markdown",
   "metadata": {},
   "source": [
    "# es una estructura de datos que almacena pares claves.valor"
   ]
  },
  {
   "cell_type": "code",
   "execution_count": null,
   "metadata": {},
   "outputs": [
    {
     "name": "stdout",
     "output_type": "stream",
     "text": [
      "{'nombre': 'mateo', 'edad': 30, 'ciudad': 'chicago'}\n",
      "mateo\n"
     ]
    }
   ],
   "source": [
    "diccionario  = {\n",
    "    \"nombre\": \"mateo\",\n",
    "    \"edad\": 30,\n",
    "    \"ciudad\": \"chicago\"}\n",
    "print(diccionario)\n",
    "\n",
    "print(diccionario[\"nombre\"])# en este imprime el valor de la clave nombre"
   ]
  },
  {
   "cell_type": "code",
   "execution_count": null,
   "metadata": {},
   "outputs": [],
   "source": []
  },
  {
   "cell_type": "markdown",
   "metadata": {},
   "source": []
  },
  {
   "cell_type": "markdown",
   "metadata": {},
   "source": [
    "## 5. Tuplas\n",
    "\n",
    "1. ¿Qué es una tupla y en qué se diferencia de una lista?\n",
    "\n",
    "2. Crea una tupla con tres números y muestra el segundo elemento."
   ]
  },
  {
   "cell_type": "code",
   "execution_count": null,
   "metadata": {},
   "outputs": [
    {
     "name": "stdout",
     "output_type": "stream",
     "text": [
      "0.2\n"
     ]
    }
   ],
   "source": [
    "#las tuplas son un tipo de dato inmutable es decir que no se le pueden hacer cambios\n",
    "#  las listas si se le pueden hacer cambios despues de crearlas\n",
    "tuple = 1,0.2,25\n",
    "print(tuple[1])"
   ]
  },
  {
   "cell_type": "markdown",
   "metadata": {},
   "source": [
    "## 6. Conjuntos (sets)\n",
    "\n",
    "1. ¿Qué es un conjunto en Python y para qué se utiliza?\n",
    "\n",
    "2. Crea un conjunto con los números 1, 2, 3, 4, 5 y agrega el número 6.\n",
    "\n",
    "3. Elimina el número 3 del conjunto y muestra el resultado."
   ]
  },
  {
   "cell_type": "code",
   "execution_count": 22,
   "metadata": {},
   "outputs": [
    {
     "name": "stdout",
     "output_type": "stream",
     "text": [
      "{1, 2, 3, 4, 5}\n",
      "{1, 2, 3, 4, 5, 6}\n",
      "{1, 2, 4, 5, 6}\n"
     ]
    }
   ],
   "source": [
    "#es una estructura de datos que almacena una coleccion de elementos unicos y desordenados\n",
    "numeros = {1, 2, 3, 4, 5 }\n",
    "print(numeros)\n",
    "\n",
    "numeros.add(6)\n",
    "print(numeros)\n",
    "\n",
    "numeros.remove(3)\n",
    "print(numeros)"
   ]
  },
  {
   "cell_type": "code",
   "execution_count": null,
   "metadata": {},
   "outputs": [],
   "source": []
  },
  {
   "cell_type": "markdown",
   "metadata": {},
   "source": [
    "## 7. Condicionales\n",
    "\n",
    "1. ¿Para qué se usan las estructuras condicionales en Python?\n",
    "\n",
    "2. Escribe un programa que pida un número y diga si es positivo, negativo o cero."
   ]
  },
  {
   "cell_type": "code",
   "execution_count": 23,
   "metadata": {},
   "outputs": [
    {
     "name": "stdout",
     "output_type": "stream",
     "text": [
      "el numero es positivo\n"
     ]
    }
   ],
   "source": [
    "#son para encontrar una respuesta a una situacion o tomar desiciones basadas en ciertas condiciones\n",
    "\n",
    "numero = float(input(\"poner el numero:\"))\n",
    "\n",
    "if numero > 0:\n",
    "    print(\"el numero es positivo\")\n",
    "elif num < 0:\n",
    "    print(\"elnumero es negativo\")\n",
    "else:\n",
    "    print(\"el numero es cero\")    "
   ]
  }
 ],
 "metadata": {
  "kernelspec": {
   "display_name": "Python 3",
   "language": "python",
   "name": "python3"
  },
  "language_info": {
   "codemirror_mode": {
    "name": "ipython",
    "version": 3
   },
   "file_extension": ".py",
   "mimetype": "text/x-python",
   "name": "python",
   "nbconvert_exporter": "python",
   "pygments_lexer": "ipython3",
   "version": "3.13.3"
  }
 },
 "nbformat": 4,
 "nbformat_minor": 2
}
